{
 "cells": [
  {
   "cell_type": "code",
   "execution_count": 2,
   "id": "775988a2",
   "metadata": {},
   "outputs": [
    {
     "name": "stdout",
     "output_type": "stream",
     "text": [
      "Collecting keras\n",
      "  Downloading keras-2.15.0-py3-none-any.whl (1.7 MB)\n",
      "Installing collected packages: keras\n",
      "Successfully installed keras-2.15.0\n",
      "Note: you may need to restart the kernel to use updated packages.\n"
     ]
    }
   ],
   "source": [
    "pip install keras"
   ]
  },
  {
   "cell_type": "code",
   "execution_count": 5,
   "id": "55daeb19",
   "metadata": {},
   "outputs": [
    {
     "name": "stdout",
     "output_type": "stream",
     "text": [
      "Collecting tensorflow\n",
      "  Using cached tensorflow-2.14.0-cp39-cp39-win_amd64.whl (2.1 kB)\n",
      "Collecting tensorflow-intel==2.14.0\n",
      "  Using cached tensorflow_intel-2.14.0-cp39-cp39-win_amd64.whl (284.1 MB)\n",
      "Requirement already satisfied: wrapt<1.15,>=1.11.0 in e:\\anaconda\\lib\\site-packages (from tensorflow-intel==2.14.0->tensorflow) (1.12.1)\n",
      "Collecting tensorflow-io-gcs-filesystem>=0.23.1\n",
      "  Using cached tensorflow_io_gcs_filesystem-0.31.0-cp39-cp39-win_amd64.whl (1.5 MB)\n",
      "Requirement already satisfied: h5py>=2.9.0 in e:\\anaconda\\lib\\site-packages (from tensorflow-intel==2.14.0->tensorflow) (3.2.1)\n",
      "Collecting flatbuffers>=23.5.26\n",
      "  Using cached flatbuffers-23.5.26-py2.py3-none-any.whl (26 kB)\n",
      "Collecting ml-dtypes==0.2.0\n",
      "  Using cached ml_dtypes-0.2.0-cp39-cp39-win_amd64.whl (938 kB)\n",
      "Requirement already satisfied: typing-extensions>=3.6.6 in e:\\anaconda\\lib\\site-packages (from tensorflow-intel==2.14.0->tensorflow) (3.10.0.2)\n",
      "Requirement already satisfied: six>=1.12.0 in e:\\anaconda\\lib\\site-packages (from tensorflow-intel==2.14.0->tensorflow) (1.16.0)\n",
      "Collecting absl-py>=1.0.0\n",
      "  Using cached absl_py-2.0.0-py3-none-any.whl (130 kB)\n",
      "Collecting google-pasta>=0.1.1\n",
      "  Using cached google_pasta-0.2.0-py3-none-any.whl (57 kB)\n",
      "Collecting gast!=0.5.0,!=0.5.1,!=0.5.2,>=0.2.1\n",
      "  Using cached gast-0.5.4-py3-none-any.whl (19 kB)\n",
      "Collecting tensorboard<2.15,>=2.14\n",
      "  Using cached tensorboard-2.14.1-py3-none-any.whl (5.5 MB)\n",
      "Collecting keras<2.15,>=2.14.0\n",
      "  Using cached keras-2.14.0-py3-none-any.whl (1.7 MB)\n",
      "Collecting grpcio<2.0,>=1.24.3\n",
      "  Using cached grpcio-1.59.2-cp39-cp39-win_amd64.whl (3.7 MB)\n",
      "Requirement already satisfied: numpy>=1.23.5 in e:\\anaconda\\lib\\site-packages (from tensorflow-intel==2.14.0->tensorflow) (1.26.1)\n",
      "Collecting termcolor>=1.1.0\n",
      "  Using cached termcolor-2.3.0-py3-none-any.whl (6.9 kB)\n",
      "Requirement already satisfied: protobuf!=4.21.0,!=4.21.1,!=4.21.2,!=4.21.3,!=4.21.4,!=4.21.5,<5.0.0dev,>=3.20.3 in e:\\anaconda\\lib\\site-packages (from tensorflow-intel==2.14.0->tensorflow) (4.25.0)\n",
      "Collecting opt-einsum>=2.3.2\n",
      "  Using cached opt_einsum-3.3.0-py3-none-any.whl (65 kB)\n",
      "Requirement already satisfied: setuptools in e:\\anaconda\\lib\\site-packages (from tensorflow-intel==2.14.0->tensorflow) (58.0.4)\n",
      "Collecting astunparse>=1.6.0\n",
      "  Using cached astunparse-1.6.3-py2.py3-none-any.whl (12 kB)\n",
      "Collecting tensorflow-estimator<2.15,>=2.14.0\n",
      "  Using cached tensorflow_estimator-2.14.0-py2.py3-none-any.whl (440 kB)\n",
      "Requirement already satisfied: packaging in e:\\anaconda\\lib\\site-packages (from tensorflow-intel==2.14.0->tensorflow) (21.0)\n",
      "Collecting libclang>=13.0.0\n",
      "  Using cached libclang-16.0.6-py2.py3-none-win_amd64.whl (24.4 MB)\n",
      "Requirement already satisfied: wheel<1.0,>=0.23.0 in e:\\anaconda\\lib\\site-packages (from astunparse>=1.6.0->tensorflow-intel==2.14.0->tensorflow) (0.37.0)\n",
      "Requirement already satisfied: requests<3,>=2.21.0 in e:\\anaconda\\lib\\site-packages (from tensorboard<2.15,>=2.14->tensorflow-intel==2.14.0->tensorflow) (2.26.0)\n",
      "Collecting markdown>=2.6.8\n",
      "  Using cached Markdown-3.5.1-py3-none-any.whl (102 kB)\n",
      "Collecting google-auth-oauthlib<1.1,>=0.5\n",
      "  Using cached google_auth_oauthlib-1.0.0-py2.py3-none-any.whl (18 kB)\n",
      "Requirement already satisfied: werkzeug>=1.0.1 in e:\\anaconda\\lib\\site-packages (from tensorboard<2.15,>=2.14->tensorflow-intel==2.14.0->tensorflow) (2.0.2)\n",
      "Requirement already satisfied: tensorboard-data-server<0.8.0,>=0.7.0 in e:\\anaconda\\lib\\site-packages (from tensorboard<2.15,>=2.14->tensorflow-intel==2.14.0->tensorflow) (0.7.2)\n",
      "Requirement already satisfied: google-auth<3,>=1.6.3 in e:\\anaconda\\lib\\site-packages (from tensorboard<2.15,>=2.14->tensorflow-intel==2.14.0->tensorflow) (2.23.4)\n",
      "Requirement already satisfied: rsa<5,>=3.1.4 in e:\\anaconda\\lib\\site-packages (from google-auth<3,>=1.6.3->tensorboard<2.15,>=2.14->tensorflow-intel==2.14.0->tensorflow) (4.9)\n",
      "Requirement already satisfied: pyasn1-modules>=0.2.1 in e:\\anaconda\\lib\\site-packages (from google-auth<3,>=1.6.3->tensorboard<2.15,>=2.14->tensorflow-intel==2.14.0->tensorflow) (0.3.0)\n",
      "Requirement already satisfied: cachetools<6.0,>=2.0.0 in e:\\anaconda\\lib\\site-packages (from google-auth<3,>=1.6.3->tensorboard<2.15,>=2.14->tensorflow-intel==2.14.0->tensorflow) (5.3.2)\n",
      "Requirement already satisfied: requests-oauthlib>=0.7.0 in e:\\anaconda\\lib\\site-packages (from google-auth-oauthlib<1.1,>=0.5->tensorboard<2.15,>=2.14->tensorflow-intel==2.14.0->tensorflow) (1.3.1)\n",
      "Requirement already satisfied: importlib-metadata>=4.4 in e:\\anaconda\\lib\\site-packages (from markdown>=2.6.8->tensorboard<2.15,>=2.14->tensorflow-intel==2.14.0->tensorflow) (4.8.1)\n",
      "Requirement already satisfied: zipp>=0.5 in e:\\anaconda\\lib\\site-packages (from importlib-metadata>=4.4->markdown>=2.6.8->tensorboard<2.15,>=2.14->tensorflow-intel==2.14.0->tensorflow) (3.6.0)\n",
      "Requirement already satisfied: pyasn1<0.6.0,>=0.4.6 in e:\\anaconda\\lib\\site-packages (from pyasn1-modules>=0.2.1->google-auth<3,>=1.6.3->tensorboard<2.15,>=2.14->tensorflow-intel==2.14.0->tensorflow) (0.5.0)\n",
      "Requirement already satisfied: certifi>=2017.4.17 in e:\\anaconda\\lib\\site-packages (from requests<3,>=2.21.0->tensorboard<2.15,>=2.14->tensorflow-intel==2.14.0->tensorflow) (2021.10.8)\n",
      "Requirement already satisfied: charset-normalizer~=2.0.0 in e:\\anaconda\\lib\\site-packages (from requests<3,>=2.21.0->tensorboard<2.15,>=2.14->tensorflow-intel==2.14.0->tensorflow) (2.0.4)\n",
      "Requirement already satisfied: idna<4,>=2.5 in e:\\anaconda\\lib\\site-packages (from requests<3,>=2.21.0->tensorboard<2.15,>=2.14->tensorflow-intel==2.14.0->tensorflow) (3.2)\n",
      "Requirement already satisfied: urllib3<1.27,>=1.21.1 in e:\\anaconda\\lib\\site-packages (from requests<3,>=2.21.0->tensorboard<2.15,>=2.14->tensorflow-intel==2.14.0->tensorflow) (1.26.7)\n",
      "Requirement already satisfied: oauthlib>=3.0.0 in e:\\anaconda\\lib\\site-packages (from requests-oauthlib>=0.7.0->google-auth-oauthlib<1.1,>=0.5->tensorboard<2.15,>=2.14->tensorflow-intel==2.14.0->tensorflow) (3.2.2)\n",
      "Requirement already satisfied: pyparsing>=2.0.2 in e:\\anaconda\\lib\\site-packages (from packaging->tensorflow-intel==2.14.0->tensorflow) (3.0.4)\n",
      "Installing collected packages: markdown, grpcio, google-auth-oauthlib, absl-py, termcolor, tensorflow-io-gcs-filesystem, tensorflow-estimator, tensorboard, opt-einsum, ml-dtypes, libclang, keras, google-pasta, gast, flatbuffers, astunparse, tensorflow-intel, tensorflow\n",
      "Successfully installed absl-py-2.0.0 astunparse-1.6.3 flatbuffers-23.5.26 gast-0.5.4 google-auth-oauthlib-1.0.0 google-pasta-0.2.0 grpcio-1.59.2 keras-2.14.0 libclang-16.0.6 markdown-3.5.1 ml-dtypes-0.2.0 opt-einsum-3.3.0 tensorboard-2.14.1 tensorflow-2.14.0 tensorflow-estimator-2.14.0 tensorflow-intel-2.14.0 tensorflow-io-gcs-filesystem-0.31.0 termcolor-2.3.0\n",
      "Note: you may need to restart the kernel to use updated packages.\n"
     ]
    },
    {
     "name": "stderr",
     "output_type": "stream",
     "text": [
      "  WARNING: The script markdown_py.exe is installed in 'C:\\Users\\Dinith\\AppData\\Roaming\\Python\\Python39\\Scripts' which is not on PATH.\n",
      "  Consider adding this directory to PATH or, if you prefer to suppress this warning, use --no-warn-script-location.\n",
      "  WARNING: The script google-oauthlib-tool.exe is installed in 'C:\\Users\\Dinith\\AppData\\Roaming\\Python\\Python39\\Scripts' which is not on PATH.\n",
      "  Consider adding this directory to PATH or, if you prefer to suppress this warning, use --no-warn-script-location.\n",
      "  WARNING: The script tensorboard.exe is installed in 'C:\\Users\\Dinith\\AppData\\Roaming\\Python\\Python39\\Scripts' which is not on PATH.\n",
      "  Consider adding this directory to PATH or, if you prefer to suppress this warning, use --no-warn-script-location.\n",
      "  WARNING: The scripts estimator_ckpt_converter.exe, import_pb_to_tensorboard.exe, saved_model_cli.exe, tensorboard.exe, tf_upgrade_v2.exe, tflite_convert.exe, toco.exe and toco_from_protos.exe are installed in 'C:\\Users\\Dinith\\AppData\\Roaming\\Python\\Python39\\Scripts' which is not on PATH.\n",
      "  Consider adding this directory to PATH or, if you prefer to suppress this warning, use --no-warn-script-location.\n"
     ]
    }
   ],
   "source": [
    "pip install tensorflow --user"
   ]
  },
  {
   "cell_type": "code",
   "execution_count": 2,
   "id": "a3012f27",
   "metadata": {},
   "outputs": [],
   "source": [
    "from keras.models import Model\n",
    "from keras.layers import Input, Dense\n",
    "from keras.datasets import mnist\n",
    "import numpy as np\n",
    "import matplotlib.pyplot as plt"
   ]
  },
  {
   "cell_type": "code",
   "execution_count": 30,
   "id": "64058b3c",
   "metadata": {},
   "outputs": [],
   "source": [
    "encoding_dim = 64"
   ]
  },
  {
   "cell_type": "code",
   "execution_count": 31,
   "id": "726f3090",
   "metadata": {},
   "outputs": [],
   "source": [
    "input_img = Input(shape = (784,))\n",
    "encoded = Dense(encoding_dim, activation='relu')(input_img)\n",
    "decoded = Dense(784, activation='sigmoid')(encoded)\n",
    "\n",
    "autoencoder = Model(input_img, decoded)\n",
    "\n",
    "encoder = Model(input_img, encoded)\n",
    "\n",
    "encoded_input = Input(shape = (encoding_dim,))\n",
    "\n",
    "decoder_layer = autoencoder.layers[-1]\n",
    "\n",
    "decoder = Model(encoded_input, decoder_layer(encoded_input))"
   ]
  },
  {
   "cell_type": "code",
   "execution_count": 32,
   "id": "9a07a46d",
   "metadata": {},
   "outputs": [],
   "source": [
    "autoencoder.compile(optimizer='adadelta', loss='binary_crossentropy')"
   ]
  },
  {
   "cell_type": "markdown",
   "id": "cbc9ddf5",
   "metadata": {},
   "source": [
    " ## Load mnist dataset"
   ]
  },
  {
   "cell_type": "code",
   "execution_count": 33,
   "id": "f9f34a0a",
   "metadata": {},
   "outputs": [
    {
     "name": "stdout",
     "output_type": "stream",
     "text": [
      "x_train shape = (60000, 784)\n",
      "x_test shape = (10000, 784)\n"
     ]
    }
   ],
   "source": [
    "(x_train, _), (x_test, _) = mnist.load_data()\n",
    "\n",
    "x_train = x_train.astype('float32')/255\n",
    "x_test = x_test.astype('float32')/255\n",
    "x_train = x_train.reshape((len(x_train), (np.prod(x_train.shape[1:]))))\n",
    "x_test = x_test.reshape((len(x_test), (np.prod(x_test.shape[1:]))))\n",
    "\n",
    "print(f\"x_train shape = {x_train.shape}\")\n",
    "print(f\"x_test shape = {x_test.shape}\")"
   ]
  },
  {
   "cell_type": "markdown",
   "id": "b9f9bd55",
   "metadata": {},
   "source": [
    "# Fit data"
   ]
  },
  {
   "cell_type": "code",
   "execution_count": 34,
   "id": "9b554b96",
   "metadata": {},
   "outputs": [
    {
     "name": "stdout",
     "output_type": "stream",
     "text": [
      "Epoch 1/50\n",
      "4000/4000 [==============================] - 8s 2ms/step - loss: 0.6931 - val_loss: 0.6908\n",
      "Epoch 2/50\n",
      "4000/4000 [==============================] - 7s 2ms/step - loss: 0.6885 - val_loss: 0.6859\n",
      "Epoch 3/50\n",
      "4000/4000 [==============================] - 7s 2ms/step - loss: 0.6829 - val_loss: 0.6792\n",
      "Epoch 4/50\n",
      "4000/4000 [==============================] - 7s 2ms/step - loss: 0.6747 - val_loss: 0.6689\n",
      "Epoch 5/50\n",
      "4000/4000 [==============================] - 7s 2ms/step - loss: 0.6620 - val_loss: 0.6529\n",
      "Epoch 6/50\n",
      "4000/4000 [==============================] - 8s 2ms/step - loss: 0.6422 - val_loss: 0.6284\n",
      "Epoch 7/50\n",
      "4000/4000 [==============================] - 8s 2ms/step - loss: 0.6131 - val_loss: 0.5937\n",
      "Epoch 8/50\n",
      "4000/4000 [==============================] - 11s 3ms/step - loss: 0.5738 - val_loss: 0.5492\n",
      "Epoch 9/50\n",
      "4000/4000 [==============================] - 13s 3ms/step - loss: 0.5266 - val_loss: 0.4991\n",
      "Epoch 10/50\n",
      "4000/4000 [==============================] - 12s 3ms/step - loss: 0.4768 - val_loss: 0.4500\n",
      "Epoch 11/50\n",
      "4000/4000 [==============================] - 11s 3ms/step - loss: 0.4309 - val_loss: 0.4076\n",
      "Epoch 12/50\n",
      "4000/4000 [==============================] - 9s 2ms/step - loss: 0.3930 - val_loss: 0.3745\n",
      "Epoch 13/50\n",
      "4000/4000 [==============================] - 9s 2ms/step - loss: 0.3643 - val_loss: 0.3502\n",
      "Epoch 14/50\n",
      "4000/4000 [==============================] - 9s 2ms/step - loss: 0.3434 - val_loss: 0.3328\n",
      "Epoch 15/50\n",
      "4000/4000 [==============================] - 8s 2ms/step - loss: 0.3284 - val_loss: 0.3204\n",
      "Epoch 16/50\n",
      "4000/4000 [==============================] - 8s 2ms/step - loss: 0.3176 - val_loss: 0.3114\n",
      "Epoch 17/50\n",
      "4000/4000 [==============================] - 9s 2ms/step - loss: 0.3097 - val_loss: 0.3048\n",
      "Epoch 18/50\n",
      "4000/4000 [==============================] - 9s 2ms/step - loss: 0.3038 - val_loss: 0.2999\n",
      "Epoch 19/50\n",
      "4000/4000 [==============================] - 11s 3ms/step - loss: 0.2994 - val_loss: 0.2960\n",
      "Epoch 20/50\n",
      "4000/4000 [==============================] - 10s 3ms/step - loss: 0.2958 - val_loss: 0.2930\n",
      "Epoch 21/50\n",
      "4000/4000 [==============================] - 11s 3ms/step - loss: 0.2930 - val_loss: 0.2905\n",
      "Epoch 22/50\n",
      "4000/4000 [==============================] - 12s 3ms/step - loss: 0.2907 - val_loss: 0.2885\n",
      "Epoch 23/50\n",
      "4000/4000 [==============================] - 10s 3ms/step - loss: 0.2888 - val_loss: 0.2867\n",
      "Epoch 24/50\n",
      "4000/4000 [==============================] - 9s 2ms/step - loss: 0.2872 - val_loss: 0.2853\n",
      "Epoch 25/50\n",
      "4000/4000 [==============================] - 9s 2ms/step - loss: 0.2858 - val_loss: 0.2840\n",
      "Epoch 26/50\n",
      "4000/4000 [==============================] - 9s 2ms/step - loss: 0.2845 - val_loss: 0.2829\n",
      "Epoch 27/50\n",
      "4000/4000 [==============================] - 8s 2ms/step - loss: 0.2835 - val_loss: 0.2819\n",
      "Epoch 28/50\n",
      "4000/4000 [==============================] - 8s 2ms/step - loss: 0.2825 - val_loss: 0.2810\n",
      "Epoch 29/50\n",
      "4000/4000 [==============================] - 10s 2ms/step - loss: 0.2816 - val_loss: 0.2802\n",
      "Epoch 30/50\n",
      "4000/4000 [==============================] - 11s 3ms/step - loss: 0.2809 - val_loss: 0.2795\n",
      "Epoch 31/50\n",
      "4000/4000 [==============================] - 9s 2ms/step - loss: 0.2802 - val_loss: 0.2788\n",
      "Epoch 32/50\n",
      "4000/4000 [==============================] - 8s 2ms/step - loss: 0.2795 - val_loss: 0.2782\n",
      "Epoch 33/50\n",
      "4000/4000 [==============================] - 10s 2ms/step - loss: 0.2789 - val_loss: 0.2776\n",
      "Epoch 34/50\n",
      "4000/4000 [==============================] - 9s 2ms/step - loss: 0.2783 - val_loss: 0.2771\n",
      "Epoch 35/50\n",
      "4000/4000 [==============================] - 10s 2ms/step - loss: 0.2778 - val_loss: 0.2766\n",
      "Epoch 36/50\n",
      "4000/4000 [==============================] - 10s 3ms/step - loss: 0.2773 - val_loss: 0.2761\n",
      "Epoch 37/50\n",
      "4000/4000 [==============================] - 11s 3ms/step - loss: 0.2768 - val_loss: 0.2757\n",
      "Epoch 38/50\n",
      "4000/4000 [==============================] - 10s 2ms/step - loss: 0.2764 - val_loss: 0.2753\n",
      "Epoch 39/50\n",
      "4000/4000 [==============================] - 10s 2ms/step - loss: 0.2760 - val_loss: 0.2749\n",
      "Epoch 40/50\n",
      "4000/4000 [==============================] - 10s 2ms/step - loss: 0.2756 - val_loss: 0.2745\n",
      "Epoch 41/50\n",
      "4000/4000 [==============================] - 9s 2ms/step - loss: 0.2752 - val_loss: 0.2741\n",
      "Epoch 42/50\n",
      "4000/4000 [==============================] - 10s 3ms/step - loss: 0.2748 - val_loss: 0.2737\n",
      "Epoch 43/50\n",
      "4000/4000 [==============================] - 10s 3ms/step - loss: 0.2744 - val_loss: 0.2734\n",
      "Epoch 44/50\n",
      "4000/4000 [==============================] - 11s 3ms/step - loss: 0.2741 - val_loss: 0.2730\n",
      "Epoch 45/50\n",
      "4000/4000 [==============================] - 8s 2ms/step - loss: 0.2737 - val_loss: 0.2727\n",
      "Epoch 46/50\n",
      "4000/4000 [==============================] - 9s 2ms/step - loss: 0.2734 - val_loss: 0.2724\n",
      "Epoch 47/50\n",
      "4000/4000 [==============================] - 9s 2ms/step - loss: 0.2731 - val_loss: 0.2720\n",
      "Epoch 48/50\n",
      "4000/4000 [==============================] - 10s 2ms/step - loss: 0.2727 - val_loss: 0.2717\n",
      "Epoch 49/50\n",
      "4000/4000 [==============================] - 9s 2ms/step - loss: 0.2724 - val_loss: 0.2714\n",
      "Epoch 50/50\n",
      "4000/4000 [==============================] - 9s 2ms/step - loss: 0.2721 - val_loss: 0.2711\n"
     ]
    },
    {
     "data": {
      "text/plain": [
       "<keras.src.callbacks.History at 0x25b8b4a90a0>"
      ]
     },
     "execution_count": 34,
     "metadata": {},
     "output_type": "execute_result"
    }
   ],
   "source": [
    "autoencoder.fit(x_train, x_train, epochs=50, batch_size=15, shuffle=True, validation_data=(x_test, x_test))"
   ]
  },
  {
   "cell_type": "code",
   "execution_count": 35,
   "id": "f9f7d394",
   "metadata": {},
   "outputs": [
    {
     "name": "stdout",
     "output_type": "stream",
     "text": [
      "313/313 [==============================] - 0s 948us/step\n",
      "313/313 [==============================] - 0s 995us/step\n"
     ]
    }
   ],
   "source": [
    "encoded_imgs = encoder.predict(x_test)\n",
    "decoded_imgs = decoder.predict(encoded_imgs)"
   ]
  },
  {
   "cell_type": "code",
   "execution_count": 36,
   "id": "8ebf8c82",
   "metadata": {},
   "outputs": [
    {
     "data": {
      "image/png": "[encoded data removed]",
      "text/plain": [
       "<Figure size 1440x288 with 20 Axes>"
      ]
     },
     "metadata": {
      "needs_background": "light"
     },
     "output_type": "display_data"
    }
   ],
   "source": [
    "n = 10\n",
    "plt.figure(figsize=(20,4))\n",
    "\n",
    "for i in range(n):\n",
    "    ax = plt.subplot(2,n, i+1)\n",
    "    plt.imshow(x_test[i].reshape(28, 28))\n",
    "    plt.gray()\n",
    "    ax.get_xaxis().set_visible(False)\n",
    "    ax.get_yaxis().set_visible(False)\n",
    "    \n",
    "    ax = plt.subplot(2, n, i+1+n)\n",
    "    plt.imshow(decoded_imgs[i].reshape(28, 28))\n",
    "    plt.gray()\n",
    "    ax.get_xaxis().set_visible(False)\n",
    "    ax.get_yaxis().set_visible(False)\n",
    "    \n",
    "plt.show()"
   ]
  },
  {
   "cell_type": "code",
   "execution_count": null,
   "id": "1c2e435e",
   "metadata": {},
   "outputs": [],
   "source": []
  }
 ],
 "metadata": {
  "kernelspec": {
   "display_name": "Python 3 (ipykernel)",
   "language": "python",
   "name": "python3"
  },
  "language_info": {
   "codemirror_mode": {
    "name": "ipython",
    "version": 3
   },
   "file_extension": ".py",
   "mimetype": "text/x-python",
   "name": "python",
   "nbconvert_exporter": "python",
   "pygments_lexer": "ipython3",
   "version": "3.9.7"
  }
 },
 "nbformat": 4,
 "nbformat_minor": 5
}
